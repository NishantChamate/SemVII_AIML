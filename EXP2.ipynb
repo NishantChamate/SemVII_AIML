{
 "cells": [
  {
   "cell_type": "code",
   "execution_count": 1,
   "metadata": {},
   "outputs": [],
   "source": [
    "import numpy as np\n",
    "import pandas as pd"
   ]
  },
  {
   "cell_type": "code",
   "execution_count": 2,
   "metadata": {},
   "outputs": [],
   "source": [
    "data = open('Datasets/Shuttle_Con/shuttle-landing-control.data', 'r')"
   ]
  },
  {
   "cell_type": "code",
   "execution_count": 4,
   "metadata": {},
   "outputs": [
    {
     "data": {
      "text/plain": [
       "'2,*,*,*,*,*,2\\n1,2,*,*,*,*,1\\n1,1,2,*,*,*,1\\n1,1,1,*,*,*,1\\n1,1,3,2,2,*,1\\n1,*,*,*,*,4,1\\n2,1,4,*,*,1,1\\n2,1,4,*,*,2,1\\n2,1,4,*,*,3,1\\n2,1,3,1,1,1,1\\n2,1,3,1,1,2,1\\n2,1,3,1,2,1,1\\n2,1,3,1,2,2,1\\n1,1,3,1,1,3,1\\n2,1,3,1,2,3,1\\n'"
      ]
     },
     "execution_count": 4,
     "metadata": {},
     "output_type": "execute_result"
    }
   ],
   "source": [
    "data.read()"
   ]
  }
 ],
 "metadata": {
  "kernelspec": {
   "display_name": "Python 3",
   "language": "python",
   "name": "python3"
  },
  "language_info": {
   "codemirror_mode": {
    "name": "ipython",
    "version": 3
   },
   "file_extension": ".py",
   "mimetype": "text/x-python",
   "name": "python",
   "nbconvert_exporter": "python",
   "pygments_lexer": "ipython3",
   "version": "3.10.13"
  }
 },
 "nbformat": 4,
 "nbformat_minor": 2
}
